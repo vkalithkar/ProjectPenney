{
 "cells": [
  {
   "cell_type": "code",
   "execution_count": 12,
   "metadata": {},
   "outputs": [],
   "source": [
    "import numpy as np\n",
    "import random\n",
    "import pandas as pd\n",
    "\n",
    "from typing import Callable\n",
    "import time \n",
    "from datetime import datetime as dt\n",
    "\n",
    "import itertools\n"
   ]
  },
  {
   "cell_type": "code",
   "execution_count": null,
   "metadata": {},
   "outputs": [],
   "source": [
    "def create_game_combos(seq_len: int=3) -> list:\n",
    "    '''\n",
    "    Use to initialize all possible Penney's games scenarios where sequences are a given length, \n",
    "    excluding matchups between 2 equal sequence choices.\n",
    "\n",
    "    Arguments:\n",
    "        seq_len: The number of elements per sequence that the players choose to scan for\n",
    "    \n",
    "    Returns:\n",
    "        combinations: 3D list of (2^seq_len)^2-(2^seq_len) tuples of length 2, each tuple length seq_len \n",
    "    '''\n",
    "    p1 = list(itertools.product([0,1], repeat=seq_len))\n",
    "    p2 = list(itertools.product([0,1], repeat=seq_len))\n",
    "    combinations = [(x, y) for x in p1 for y in p2 if x!=y]\n",
    "\n",
    "    return(combinations)"
   ]
  },
  {
   "cell_type": "code",
   "execution_count": 13,
   "metadata": {},
   "outputs": [
    {
     "data": {
      "text/plain": [
       "'\\n# Example usage\\ndecks, seeds = get_n_decks(1000000)  # Generate 1,000,000 decks efficiently\\nprint(decks[0:5])  \\nprint(seeds[0:5])\\n'"
      ]
     },
     "execution_count": 13,
     "metadata": {},
     "output_type": "execute_result"
    }
   ],
   "source": [
    "# Code adapted from student Yueran Shi\n",
    "def get_init_deck(half_deck_size: int) -> np.ndarray:\n",
    "    \"\"\"Generate an initial deck with equal 0s and 1s.\"\"\"\n",
    "    return np.array([0] * half_deck_size + [1] * half_deck_size)\n",
    "    \n",
    "def get_n_decks(n_decks: int, half_num_cards: int) -> tuple[np.ndarray, np.ndarray]:\n",
    "    \"\"\"\n",
    "    Efficiently generate `n_decks` shuffled decks using NumPy.\n",
    "    \n",
    "    Returns:\n",
    "        decks (np.ndarray): 2D array of shape (n_decks, half_num_cards), each row is a shuffled deck.\n",
    "        seeds (np.ndarray): 1D array of seeds used for shuffling.\n",
    "    \"\"\"\n",
    "    init_deck = get_init_deck(half_num_cards)  # Base deck\n",
    "    decks = np.tile(init_deck, (n_decks, 1))  # Create a 2D array of identical decks\n",
    "    seeds = np.arange(n_decks)  # Use seed values from 0 to n_decks-1\n",
    "    \n",
    "    for i, seed in enumerate(seeds):\n",
    "        np.random.seed(seed)\n",
    "        np.random.shuffle(decks[i])  # Shuffle each row with a different seed\n",
    "    \n",
    "    return decks, seeds\n",
    "\n",
    "'''\n",
    "# Example usage\n",
    "decks, seeds = get_n_decks(1000000)  # Generate 1,000,000 decks efficiently\n",
    "print(decks[0:5])  \n",
    "print(seeds[0:5])\n",
    "'''"
   ]
  },
  {
   "cell_type": "code",
   "execution_count": null,
   "metadata": {},
   "outputs": [
    {
     "data": {
      "text/plain": [
       "[((0, 0, 0), (0, 0, 1)),\n",
       " ((0, 0, 0), (0, 1, 0)),\n",
       " ((0, 0, 0), (0, 1, 1)),\n",
       " ((0, 0, 0), (1, 0, 0)),\n",
       " ((0, 0, 0), (1, 0, 1)),\n",
       " ((0, 0, 0), (1, 1, 0)),\n",
       " ((0, 0, 0), (1, 1, 1)),\n",
       " ((0, 0, 1), (0, 0, 0)),\n",
       " ((0, 0, 1), (0, 1, 0)),\n",
       " ((0, 0, 1), (0, 1, 1))]"
      ]
     },
     "execution_count": 32,
     "metadata": {},
     "output_type": "execute_result"
    }
   ],
   "source": [
    "# Example implementation\n",
    "all_combos=create_game_combos(seq_len = 3)\n",
    "all_combos[0:10]"
   ]
  },
  {
   "cell_type": "code",
   "execution_count": 34,
   "metadata": {},
   "outputs": [
    {
     "name": "stdout",
     "output_type": "stream",
     "text": [
      "[[0 1 0 1 0 1 1 0 0 1]\n",
      " [0 1 1 0 0 0 0 1 1 1]\n",
      " [0 0 1 0 1 0 0 1 1 1]\n",
      " [1 0 0 0 1 1 1 0 0 1]\n",
      " [0 1 0 1 0 1 0 0 1 1]]\n",
      "[0 1 2 3 4]\n"
     ]
    }
   ],
   "source": [
    "HALF_DECK_SIZE = 5\n",
    "decks, seeds = get_n_decks(n_decks = 5, half_num_cards = HALF_DECK_SIZE)\n",
    "print(decks[0:5])  \n",
    "print(seeds[0:5])"
   ]
  },
  {
   "cell_type": "code",
   "execution_count": null,
   "metadata": {},
   "outputs": [],
   "source": []
  }
 ],
 "metadata": {
  "kernelspec": {
   "display_name": "Python 3",
   "language": "python",
   "name": "python3"
  },
  "language_info": {
   "codemirror_mode": {
    "name": "ipython",
    "version": 3
   },
   "file_extension": ".py",
   "mimetype": "text/x-python",
   "name": "python",
   "nbconvert_exporter": "python",
   "pygments_lexer": "ipython3",
   "version": "3.13.1"
  }
 },
 "nbformat": 4,
 "nbformat_minor": 2
}
